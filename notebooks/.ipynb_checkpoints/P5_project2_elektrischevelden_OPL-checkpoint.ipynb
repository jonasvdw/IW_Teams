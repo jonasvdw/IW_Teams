{
 "cells": [
  {
   "attachments": {},
   "cell_type": "markdown",
   "id": "2d7931c7",
   "metadata": {},
   "source": [
    "# Visualiseren van elektrische velden rondom één of meerdere ladingen\n",
    "\n",
    "## 1. De elektrische veldsterkte $\\vec{E}$\n",
    "\n",
    "### 1.1. $\\vec{E}$ beschrijven op een r-as\n",
    "\n",
    "In een punt P op een afstand _r_ van een elektrische lading _Q_ wordt de elektrische veldsterkte beschreven door\n",
    "$$\n",
    "\\vec{E} = k \\, \\frac{Q}{r^2} \\, \\vec{e_r}\n",
    "$$\n",
    "met $k = 8,99 \\times 10^9 \\frac{N m^2}{C^2}$ de Coulombconstante en $\\vec{e_r}$ de eenheidsvector in de\n",
    "radiale richting weg van de lading _Q_ zoals op onderstaande figuur. Merk op, de figuur is enkel correct voor een lading _Q_>0 C.\n",
    "\n",
    "<img src='https://github.com/jonasvdw/IW_Teams/blob/main/media/P5_project2_E-ras.png?raw=true' width='50%'>\n",
    "\n",
    "In bovenstaand assenstelsel kunnen we dus de vector $\\vec{E}$ schrijven als een aantal keer de eenheidsvector $\\vec{e_r}$:\n",
    "$$\n",
    "\\boxed{\\vec{E} = E_r \\, \\vec{e_r} \\quad {\\rm met \\ als \\ component} \\quad E_r = k \\, \\frac{Q}{r^2}}\n",
    "$$\n",
    "\n",
    "Met bovenstaande formule vinden we dat de elektrische veldsterkte $\\vec{E}$ in het punt P dezelfde richting en zin heeft als de eenheidsvector (weg van de lading _Q_) als _Q_>0 C. Daarentegen, was _Q_<0 C, dan zou de zin van de elektrische veldsterkte in het punt P tegengesteld zijn aan de zin van de eenheidsvector.\n",
    "\n",
    "Deze theoretische beschrijving van de elektrische veldsterkte komt overeen met de formule hoe je die in de lessen fysica hebt gedefinieerd. En wees jouw leraar fysica maar dankbaar, want dat was een zeer bewuste keuze. Hoewel je niet gewoon bent om met een _r-as_ te werken, maakt het de fysische formules heel eenvoudig."
   ]
  },
  {
   "cell_type": "markdown",
   "id": "650743d2",
   "metadata": {},
   "source": [
    "<span style=\"color:#1569C7\">**Opdracht 1.**</span>  Schrijf een eigen functie met de naam `Ercomponent(q,r)` met _q_ de bronlading en _r_ de afstand van de bronlading tot het punt P. Als retourwaarde geeft de functie de r-component $E_r$.\n",
    "\n",
    "**Voorbeeld:**\n",
    "Bij het uitvoeren van jouw functie met argumenten 1 nC en 1 m:\n",
    "```python\n",
    "# maak hier jouw functie Ercomponent() aan\n",
    "print( 'E_r =', Ercomponent(1e-9,1), 'N/C')\n",
    "```\n",
    "is de uitvoer:\n",
    "```\n",
    "E_r = 8.99 N/C\n",
    "```"
   ]
  },
  {
   "cell_type": "code",
   "execution_count": null,
   "id": "7803075f",
   "metadata": {},
   "outputs": [],
   "source": [
    "k = 8.99e9 # Coulombconstante in Nm²/C²\n",
    "\n",
    "def Ercomponent(q,r):\n",
    "    E_r = k * q / r**2\n",
    "    return E_r\n",
    "\n",
    "print( 'E_r =', Ercomponent(1e-9,1), 'N/C')"
   ]
  },
  {
   "cell_type": "markdown",
   "id": "1d386d00",
   "metadata": {},
   "source": [
    "<span style=\"color:#1569C7\">**Opdracht 2.**</span> We breiden vorige opdracht een klein beetje uit door de oorsprong van de r-as niet op de bronlading te kiezen. Dit kunnen we doen door de functie `Ercomponent(q,r0,r)` drie argumenten te geven. _q_ is nog steeds de bronlading, _r0_ is de afstand van de oorsprong tot de bronlading en _r_ is de afstand van de oorsprong tot het punt P. De retourwaarde van jouw functie is opnieuw de r-component $E_r$.\n",
    "\n",
    "> TIP: Zorg dat jouw functie voldoende commentaarlijnen bevat om duidelijk leesbaar te zijn!\n",
    "\n",
    "**Voorbeeld:**\n",
    "Bij het uitvoeren van jouw functie met argumenten 1 nC, 0.5 m en 1.0 m:\n",
    "```python\n",
    "# maak hier jouw functie Ercomponent() aan\n",
    "print( 'E_r =', Ercomponent(1e-9,0.5,1.0), 'N/C')\n",
    "```\n",
    "is de uitvoer:\n",
    "```\n",
    "E_r = 35.96 N/C\n",
    "```"
   ]
  },
  {
   "cell_type": "code",
   "execution_count": null,
   "id": "b1135a0d",
   "metadata": {},
   "outputs": [],
   "source": [
    "k = 8.99e9 # Coulombconstante in Nm²/C²\n",
    "\n",
    "def Ercomponent(q,r0,r):\n",
    "    E_r = k * q / (r-r0)**2\n",
    "    return E_r\n",
    "\n",
    "print( 'E_r =', Ercomponent(1e-9,0.5,1), 'N/C')"
   ]
  },
  {
   "cell_type": "markdown",
   "id": "861b8914",
   "metadata": {},
   "source": [
    "### 1.2. $\\vec{E}$ beschrijven op een x- en y-as\n",
    "\n",
    "Hoewel de beschrijving van de elektrische veldsterktevector zonder twijfel best gebeurt op een r-as, maken we de theorie even wat moeilijker (stel je voorlopig nog niet de vraag _waarom_) door de elektrische veldsterkte vector voor te stellen in een xy assenstelsel in plaats van op een enkele r-as:\n",
    "\n",
    "<img src='https://github.com/jonasvdw/IW_Teams/blob/main/media/P5_project2_E-xyas.png?raw=true' width='50%'>\n",
    "<!-- VERVANG DOOR PDF, MAAR HOE IMPORTEREN? -->\n",
    "\n",
    "Het gevolg is dat - door onze moeilijke keuze van assenstelsel - we in dit xy assenstelsel de vector <span style=\"color:blue\">$\\vec{E}$</span> niet kunnen beschrijven met een $E_r$ component, we hebben daarentegen twee componenten nodig: <span style=\"color:red\">$E_x$</span> volgens de $\\vec{e_x}$ richting en <span style=\"color:red\">$E_y$</span> volgens de $\\vec{e_y}$ richting. Zo wordt:\n",
    "$$\n",
    "\\vec{E} = E_x \\vec{e_x} + E_y \\vec{e_y}\n",
    "$$\n",
    "\n",
    "We moeten dus op zoek naar de componenten $E_x$ en $E_y$. We gebruiken hiervoor de gele en grijze rechthoekige driehoeken in bovenstaande figuur:\n",
    "\n",
    "- In de gele driehoek passen we de stelling van Pythagoras toe. De afstand $r$ tussen de lading $Q$ en het punt P in termen van $x$ en $y$ wordt zo:\n",
    "$$ r^2 = x^2 + y^2 \\quad {\\rm dus} \\quad r = \\sqrt{x^2 + y^2}. $$\n",
    "\n",
    "- In de grijze driehoek passen we de goniometrische relatie voor sinus en cosinus van de hoek $\\theta$ toe:\n",
    "$$ \\cos{\\theta} = \\frac{E_x}{E_r} \\quad {\\rm en} \\quad \\sin{\\theta} = \\frac{E_y}{E_r} $$\n",
    "\n",
    "Met de laatste gelijkheden vinden we achtereenvolgens een uitdrukking voor de componenten $E_x$ en $E_y$:\n",
    "$$\n",
    "\\begin{align}\n",
    "E_x &= E_r \\cdot \\cos{\\theta} \\\\\n",
    "    &= k \\frac{Q}{r^2} \\cdot \\frac{x}{r} \\\\\n",
    "    &= k \\, Q \\frac{x}{r^3} \\\\\n",
    "    &= k \\, Q \\frac{x}{(x^2+y^2)^{3/2}} \\\\ \\\\\n",
    "E_y &= E_r \\cdot \\sin{\\theta} \\\\\n",
    "    &= k \\frac{Q}{r^2} \\cdot \\frac{y}{r} \\\\\n",
    "    &= k \\, Q \\frac{y}{r^3} \\\\\n",
    "    &= k \\, Q \\frac{y}{(x^2+y^2)^{3/2}}\n",
    "\\end{align}\n",
    "$$\n",
    "\n",
    "Samengevat: als we de elektrische veldsterkte $\\vec{E}$ willen voorstellen in een xy assenstelsel, dan geldt:\n",
    "$$\n",
    "\\boxed{\\vec{E} = E_x \\vec{e_x} + E_y \\vec{e_y} \\quad {\\rm met \\ als \\ componenten} \\quad\n",
    "\\begin{cases}\n",
    "    E_x & = k \\, Q \\frac{x}{(x^2+y^2)^{3/2}} \\\\\n",
    "    E_y & = k \\, Q \\frac{y}{(x^2+y^2)^{3/2}}\n",
    "\\end{cases}\n",
    "}\n",
    "$$"
   ]
  },
  {
   "cell_type": "markdown",
   "id": "bc554587",
   "metadata": {},
   "source": [
    "<span style=\"color:#1569C7\">**Opdracht 3.**</span> Schrijf een nieuwe functie met de naam `Exycomponenten(q,x,y)` met _q_ de bronlading en _x_ en _y_ de componenten van het punt P als we de oorsprong van het xy assenstelsel gelijkstellen met de bronlading. Als retourwaarde geeft de functie de x- en y-componenten $E_x$ en $E_y$.\n",
    "\n",
    "**Voorbeeld:**\n",
    "Bij het uitvoeren van jouw functie met argumenten 2.6 nC, 3.0 m en 2.0 m:\n",
    "```python\n",
    "# maak hier jouw functie Exycomponenten() aan\n",
    "print( 'E_x,E_y =', Exycomponenten(2.6e-9,3.0,2.0), 'N/C')\n",
    "```\n",
    "is de uitvoer:\n",
    "```\n",
    "E_x,E_y = (1.496026429219443, 0.997350952812962) N/C\n",
    "```"
   ]
  },
  {
   "cell_type": "code",
   "execution_count": null,
   "id": "21112f3e",
   "metadata": {},
   "outputs": [],
   "source": [
    "k = 8.99e9 # Coulombconstante in Nm²/C²\n",
    "\n",
    "def Exycomponenten(q, x, y):\n",
    "    den = (x**2 + y**2)**1.5  # noemer\n",
    "    E_x = k * q * (x / den)   # x component van de elektrische veldsterkte vector\n",
    "    E_y = k * q * (y / den)   # y component van de elektrische veldsterkte vector\n",
    "    return E_x , E_y\n",
    "\n",
    "print( 'E_x,E_y =', Exycomponenten(2.6e-9,3.0,2.0), 'N/C')"
   ]
  },
  {
   "cell_type": "markdown",
   "id": "de5e5968",
   "metadata": {},
   "source": [
    "<span style=\"color:#1569C7\">**Opdracht 4.**</span> We breiden opnieuw de vorige opdracht een klein beetje uit door de oorsprong van het xy assenstelsel niet op de bronlading te kiezen. Schrijf de functie `Exycomponenten(q,xQ,yQ,xP,yP)` die vijf argumenten aanvaardt: _q_ is de bronlading, _xQ_ en _yQ_ zijn de x- en y-coordinaten van de bronlading, terwijl _xP_ en _yP_ de coordinaten zijn van het punt P waar we de veldsterkte willen bepalen. De retourwaarde van jouw functie is opnieuw de twee componenten $E_x$ en $E_y$.\n",
    "\n",
    "<img src='https://github.com/jonasvdw/IW_Teams/blob/main/media/P5_project2_E-xyas-nietoorspront.png?raw=true' width='50%'>\n",
    "\n",
    "> TIP: Neem $x = x_P - x_Q$ en $y = y_P - y_Q$ zodat we nog steeds kunnen gebruiken dat\n",
    "> $$\n",
    "  \\begin{cases}\n",
    "     E_x & = k \\, Q \\frac{x}{(x^2+y^2)^{3/2}} \\\\\n",
    "     E_y & = k \\, Q \\frac{y}{(x^2+y^2)^{3/2}}\n",
    "  \\end{cases}\n",
    "  $$\n",
    "\n",
    "**Voorbeeld:**\n",
    "Bij het uitvoeren van jouw functie met argumenten 2.1 nC, 1.0 m, 1.5 m, 4.0 m en 3.0 m:\n",
    "```python\n",
    "# maak hier jouw functie Exycomponenten() aan\n",
    "print( 'E_x,E_y =', Exycomponenten(2.1e-9,1.0,1.5,4.0,3.0), 'N/C')\n",
    "```\n",
    "is de uitvoer:\n",
    "```\n",
    "E_x,E_y = (1.5009680834566588, 0.7504840417283294) N/C\n",
    "```"
   ]
  },
  {
   "cell_type": "code",
   "execution_count": null,
   "id": "3cd1c365",
   "metadata": {},
   "outputs": [],
   "source": [
    "k = 8.99e9 # Coulombconstante in Nm²/C²\n",
    "\n",
    "def Exycomponenten(q, xQ, yQ, xP, yP):\n",
    "    den = ((xP-xQ)**2 + (yP-yQ)**2)**1.5  # noemer\n",
    "    E_x = k * q * (xP-xQ) / den          # x component van de elektrische veldsterkte vector\n",
    "    E_y = k * q * (yP-yQ) / den          # y component van de elektrische veldsterkte vector\n",
    "    return E_x , E_y\n",
    "\n",
    "print( 'E_x,E_y =', Exycomponenten(2.1e-9,1.0,1.5,4.0,3.0), 'N/C')"
   ]
  },
  {
   "cell_type": "markdown",
   "id": "5ff0d0ad",
   "metadata": {},
   "source": [
    "## 2. Voorstelling van de ladingen\n",
    "\n",
    "### 2.1. Locatie(s) van één of meerdere puntladingen\n",
    "\n",
    "In dit tweede deel van het project gaan we puntladingen plaatsen binnen het xy assenstelsel. Daarvoor moeten we over elke puntlading drie gegevens specifiëren:\n",
    "- de lading _q_ die zowel positief als negatief kan zijn;\n",
    "- de x-coordinaat van de puntlading binnen het xy assenstelsel;\n",
    "- de y-coordinaat van de puntlading binnen het xy assenstelsel."
   ]
  },
  {
   "cell_type": "markdown",
   "id": "a28ea85c",
   "metadata": {},
   "source": [
    "<span style=\"color:#1569C7\">**Opdracht 5.**</span> Schijf een functie `puntlading()` die geen argumenten aanvaardt en als retourwaarde een lijst geeft met de drie gegevens over de puntlading (lading, de x-coordinaat en de y-coordinaat).\n",
    "\n",
    "**Voorbeeld:**\n",
    "Binnen jouw functie plaats je een puntlading van 1 C op de plaats (1.0 , 1.5) binnen het assenstelsel. Bij het uitvoeren van jouw functie:\n",
    "```python\n",
    "# maak hier jouw functie puntlading() aan\n",
    "print( \"[lading,xcoo,ycoo] =\",puntlading() )\n",
    "```\n",
    "is de uitvoer dan:\n",
    "```\n",
    "[lading,xcoo,ycoo] = [1, 1.0, 1.5]\n",
    "```"
   ]
  },
  {
   "cell_type": "code",
   "execution_count": null,
   "id": "cd29c75a",
   "metadata": {},
   "outputs": [],
   "source": [
    "def puntlading():\n",
    "    lading = [1,1.0,1.5]\n",
    "    return lading\n",
    "\n",
    "print( \"[lading,xcoo,ycoo] =\",puntlading() )"
   ]
  },
  {
   "cell_type": "markdown",
   "id": "0cad1f95",
   "metadata": {},
   "source": [
    "> **TIP: Neem alvast een kijkje naar de volgende paragraaf 2.2, daar kun je jouw puntlading tekenen!**"
   ]
  },
  {
   "cell_type": "markdown",
   "id": "c4920bd4",
   "metadata": {},
   "source": [
    "<span style=\"color:#1569C7\">**Opdracht 6.**</span> We breiden de vorige opdracht uit naar de functie `puntladingen()` die meerdere puntladingen op het xy assenstelsel kan plaatsen. Jouw functie aanvaardt geen argumenten en geeft als retourwaarde een lijst met daarin voor elke geplaatste puntlading een lijst met de drie gegevens over die puntlading (lading, de x-coordinaat en de y-coordinaat).\n",
    "\n",
    "**Voorbeeld:**\n",
    "Binnen jouw functie plaats je twee puntladingen in het xy assenstelsel:\n",
    "- een puntlading van 1 C op de plaats (-1.0, 0.5)\n",
    "- een puntlading van -1 C op de plaats (1.0, 0.0).\n",
    "\n",
    "Bij het uitvoeren van jouw functie:\n",
    "```python\n",
    "# maak hier jouw functie puntladingen() aan\n",
    "print( \"Lijst met [lading,xcoo,ycoo] per puntlading :\",puntladingen() )\n",
    "```\n",
    "is de uitvoer dan:\n",
    "```\n",
    "Lijst met [lading,xcoo,ycoo] per puntlading : [[1, -1, 0.5], [-1, 1, 0]]\n",
    "```"
   ]
  },
  {
   "cell_type": "code",
   "execution_count": null,
   "id": "f1ad245b",
   "metadata": {},
   "outputs": [],
   "source": [
    "def puntladingen():\n",
    "    charges = []\n",
    "    charges.append( [1, -1, 0.5] )\n",
    "    charges.append( [-1, 1, 0] )\n",
    "    return charges\n",
    "\n",
    "print( \"Lijst met [lading,xcoo,ycoo] per puntlading :\",puntladingen() )"
   ]
  },
  {
   "cell_type": "markdown",
   "id": "f6957541",
   "metadata": {},
   "source": [
    "<span style=\"color:#1569C7\">**Opdracht 7.**</span> We breiden de vorige opdracht verder uit naar de functie `plaat()` die 50 puntladingen van telkens +0.02 C naast elkaar op het xy assenstelsel kan plaatsen zodat het resultaat lijkt op een geleidende vlakke plaat van +1 C. Zoals voorheen aanvaardt jouw functie geen argumenten en geeft het als retourwaarde een lijst met daarin voor elke geplaatste puntlading een lijst met de drie gegevens over die puntlading (lading, de x-coordinaat en de y-coordinaat).\n",
    "\n",
    "**Voorbeeld:**\n",
    "Binnen jouw functie plaats je 50 puntladingen op de y-as (x=0 voor elk van de puntladingen) tussen $y=-3$ en $y=3$, met gelijke afstand tussen elk van de puntladingen.\n",
    "> TIP: Gebruik hiervoor een loop! \n",
    "\n",
    "Bij het uitvoeren van jouw functie:\n",
    "```python\n",
    "# maak hier jouw functie plaat() aan\n",
    "print( \"Lijst met [lading,xcoo,ycoo] per puntlading :\",plaat() )\n",
    "```\n",
    "is de uitvoer dan:\n",
    "```\n",
    "Lijst met [lading,xcoo,ycoo] per puntlading op de plaat : [[0.02, 0, -3.0], [0.02, 0, -2.877551020408163], [0.02, 0, -2.7551020408163267], [0.02, 0, -2.63265306122449], [0.02, 0, -2.510204081632653], [0.02, 0, -2.387755102040816], [0.02, 0, -2.2653061224489797], [0.02, 0, -2.142857142857143], [0.02, 0, -2.020408163265306], [0.02, 0, -1.8979591836734695], [0.02, 0, -1.7755102040816326], [0.02, 0, -1.653061224489796], [0.02, 0, -1.5306122448979593], [0.02, 0, -1.4081632653061225], [0.02, 0, -1.2857142857142858], [0.02, 0, -1.163265306122449], [0.02, 0, -1.0408163265306123], [0.02, 0, -0.9183673469387754], [0.02, 0, -0.795918367346939], [0.02, 0, -0.6734693877551021], [0.02, 0, -0.5510204081632653], [0.02, 0, -0.4285714285714288], [0.02, 0, -0.30612244897959195], [0.02, 0, -0.18367346938775508], [0.02, 0, -0.06122448979591866], [0.02, 0, 0.06122448979591821], [0.02, 0, 0.18367346938775508], [0.02, 0, 0.30612244897959195], [0.02, 0, 0.4285714285714284], [0.02, 0, 0.5510204081632653], [0.02, 0, 0.6734693877551021], [0.02, 0, 0.7959183673469385], [0.02, 0, 0.9183673469387754], [0.02, 0, 1.0408163265306118], [0.02, 0, 1.1632653061224492], [0.02, 0, 1.2857142857142856], [0.02, 0, 1.408163265306122], [0.02, 0, 1.5306122448979593], [0.02, 0, 1.6530612244897958], [0.02, 0, 1.7755102040816322], [0.02, 0, 1.8979591836734695], [0.02, 0, 2.020408163265306], [0.02, 0, 2.1428571428571423], [0.02, 0, 2.2653061224489797], [0.02, 0, 2.387755102040816], [0.02, 0, 2.5102040816326525], [0.02, 0, 2.63265306122449], [0.02, 0, 2.7551020408163263], [0.02, 0, 2.8775510204081627], [0.02, 0, 3.0]]\n",
    "```"
   ]
  },
  {
   "cell_type": "code",
   "execution_count": null,
   "id": "c1e7e0be",
   "metadata": {},
   "outputs": [],
   "source": [
    "import numpy as np\n",
    "\n",
    "def plaat():\n",
    "    charges = []\n",
    "    for i in np.linspace(-3,3,50):\n",
    "        charges.append( [0.02, 0, i ] )\n",
    "    return charges\n",
    "\n",
    "print( \"Lijst met [lading,xcoo,ycoo] per puntlading op de plaat :\",plaat() )"
   ]
  },
  {
   "cell_type": "markdown",
   "id": "01bb9b81",
   "metadata": {},
   "source": [
    "### 2.2. Teken de puntlading(en) op een figuur\n",
    "\n",
    "Nu gaan we de puntlading(en) op een assenstelsel plaatsen. De code hieronder zal - mits succesvolle voltooiing van **Opdracht 5** de puntlading weergeven. Uitvoeren maar...\n",
    "- Blijkt de code hieronder niet te werken? Bekijk opdracht 5 opnieuw in detail en controleer als jouw functie _exact_ dezelfde oplossing geeft als het voorbeeld, dat is écht nodig!\n",
    "- Krijg je de figuur? Schitterend. Bestudeer dan aandachtig de code. Je zult die in de opdrachten hieronder aanpassen zodat het ook werkt voor meerdere puntladingen."
   ]
  },
  {
   "cell_type": "code",
   "execution_count": null,
   "id": "7be23b47",
   "metadata": {},
   "outputs": [],
   "source": [
    "import matplotlib.pyplot as plt\n",
    "from matplotlib.patches import Circle\n",
    "plt.style.use('dark_background')\n",
    "\n",
    "#====================================#\n",
    "#=== OPROEP LOCATIES PUNTLADINGEN ===#\n",
    "#=== VOER EERST JOUW FUNCTIE UIT! ===#\n",
    "#====================================#\n",
    "\n",
    "charge = puntlading()\n",
    "print( \"[lading,xcoo,ycoo] =\",charge )\n",
    "\n",
    "# figuur settings\n",
    "WIDTH  = 700\n",
    "HEIGHT = 700\n",
    "DPI    = 100\n",
    "\n",
    "\n",
    "#==============#\n",
    "#=== FIGUUR ===#\n",
    "#==============#\n",
    "\n",
    "fig = plt.figure(figsize=(WIDTH/DPI, HEIGHT/DPI))\n",
    "ax  = fig.add_subplot()\n",
    "fig.subplots_adjust(left=0, right=1, bottom=0, top=1)\n",
    "\n",
    "# Plaats de puntlading (charge in het engels) als een cirkel in het assenstelsel\n",
    "q,xco,yco = charge\n",
    "if q>0:\n",
    "    ax.add_artist(Circle([xco,yco], 0.05, color='tab:red', zorder=10))\n",
    "else:\n",
    "    ax.add_artist(Circle([xco,yco], 0.05, color='tab:blue', zorder=10))\n",
    "\n",
    "ax.set_xlim(-5,5)\n",
    "ax.set_ylim(-5,5)\n",
    "ax.set_aspect('equal')\n",
    "plt.show()"
   ]
  },
  {
   "cell_type": "markdown",
   "id": "7096f6a5",
   "metadata": {},
   "source": [
    "<span style=\"color:#1569C7\">**Opdracht 8.**</span> Hieronder vind je een kopie van de code hierboven, met één verschil: ik riep jouw functie `puntladingen()` aan om twee puntladingen in het assenstelsel te tekenen. Echter, je zult zien dat het uitvoeren van deze code leidt tot een foutmelding:\n",
    "> **ValueError**: not enough values to unpack (expected 3, got 2)\n",
    "\n",
    "Verbeter de code zodat alle puntladingen die je in jouw functie `puntladingen()` aanmaakte worden getoond. Zorg ervoor dat jouw code _veralgemeenbaar_ is. In dit geval betekent dit dat je op regel 10 ook perfect `plaat()` moet kunnen oproepen, zonder verdere aanpassingen in jouw code! In het laatste geval krijg je inderdaad een rode 'plaat' (50 rode stippen onder elkaar) te zien op de figuur!"
   ]
  },
  {
   "cell_type": "code",
   "execution_count": null,
   "id": "26190e6c",
   "metadata": {},
   "outputs": [],
   "source": [
    "import matplotlib.pyplot as plt\n",
    "from matplotlib.patches import Circle\n",
    "plt.style.use('dark_background')\n",
    "\n",
    "#====================================#\n",
    "#=== OPROEP LOCATIES PUNTLADINGEN ===#\n",
    "#=== VOER EERST JOUW FUNCTIE UIT! ===#\n",
    "#====================================#\n",
    "\n",
    "charges = puntladingen()\n",
    "print( \"Lijst met [lading,xcoo,ycoo] per puntlading :\",charges )\n",
    "\n",
    "# figuur settings\n",
    "WIDTH  = 700\n",
    "HEIGHT = 700\n",
    "DPI    = 100\n",
    "\n",
    "\n",
    "#==============#\n",
    "#=== FIGUUR ===#\n",
    "#==============#\n",
    "\n",
    "fig = plt.figure(figsize=(WIDTH/DPI, HEIGHT/DPI))\n",
    "ax  = fig.add_subplot()\n",
    "fig.subplots_adjust(left=0, right=1, bottom=0, top=1)\n",
    "\n",
    "# Plaats de puntladingen (charges in het engels) als cirkels in het assenstelsel\n",
    "q,xco,yco = charges\n",
    "if q>0:\n",
    "    ax.add_artist(Circle([xco,yco], 0.05, color='tab:red', zorder=10))\n",
    "else:\n",
    "    ax.add_artist(Circle([xco,yco], 0.05, color='tab:blue', zorder=10))\n",
    "\n",
    "ax.set_xlim(-5,5)\n",
    "ax.set_ylim(-5,5)\n",
    "ax.set_aspect('equal')\n",
    "plt.show()"
   ]
  },
  {
   "cell_type": "code",
   "execution_count": null,
   "id": "ae1830ef",
   "metadata": {},
   "outputs": [],
   "source": [
    "### OPLOSSING\n",
    "import matplotlib.pyplot as plt\n",
    "from matplotlib.patches import Circle\n",
    "plt.style.use('dark_background')\n",
    "\n",
    "#====================================#\n",
    "#=== OPROEP LOCATIES PUNTLADINGEN ===#\n",
    "#=== VOER EERST JOUW FUNCTIE UIT! ===#\n",
    "#====================================#\n",
    "\n",
    "#charges = puntladingen()\n",
    "charges = plaat()\n",
    "print( \"Lijst met [lading,xcoo,ycoo] per puntlading :\",charges )\n",
    "\n",
    "# figuur settings\n",
    "WIDTH  = 700\n",
    "HEIGHT = 700\n",
    "DPI    = 100\n",
    "\n",
    "\n",
    "#==============#\n",
    "#=== FIGUUR ===#\n",
    "#==============#\n",
    "\n",
    "fig = plt.figure(figsize=(WIDTH/DPI, HEIGHT/DPI))\n",
    "ax  = fig.add_subplot()\n",
    "fig.subplots_adjust(left=0, right=1, bottom=0, top=1)\n",
    "\n",
    "# Plaats de puntladingen (charges in het engels) als cirkels in het assenstelsel\n",
    "for pl in charges:\n",
    "    q,xco,yco = pl\n",
    "    if q>0:\n",
    "        ax.add_artist(Circle([xco,yco], 0.05, color='tab:red', zorder=10))\n",
    "    else:\n",
    "        ax.add_artist(Circle([xco,yco], 0.05, color='tab:blue', zorder=10))\n",
    "\n",
    "ax.set_xlim(-5,5)\n",
    "ax.set_ylim(-5,5)\n",
    "ax.set_aspect('equal')\n",
    "plt.show()"
   ]
  },
  {
   "cell_type": "markdown",
   "id": "6936b450",
   "metadata": {},
   "source": [
    "## 3. Voorstelling van de elektrische veldlijnen rond de lading(en)\n",
    "\n",
    "### 3.1. Verdeling van het assenstelsel in een 'grid'"
   ]
  },
  {
   "cell_type": "code",
   "execution_count": 78,
   "id": "981fc29a",
   "metadata": {},
   "outputs": [],
   "source": [
    "def grid():\n",
    "    nx = 60 # 128\n",
    "    ny = 60 # 128\n",
    "    x = np.linspace(-5, 5, nx)\n",
    "    y = np.linspace(-5, 5, ny)\n",
    "    X, Y = np.meshgrid(x, y)\n",
    "    return X,Y"
   ]
  },
  {
   "cell_type": "markdown",
   "id": "78591ca9",
   "metadata": {},
   "source": [
    "### 3.2. Elektrische veldsterkte door één puntlading op elk gridpunt"
   ]
  },
  {
   "cell_type": "code",
   "execution_count": 80,
   "id": "c86700e3",
   "metadata": {},
   "outputs": [],
   "source": [
    "def EopGRID():\n",
    "    charge    = puntlading()\n",
    "    q, xQ, yQ = charge\n",
    "    \n",
    "    xP, yP    = grid()\n",
    "\n",
    "    Ex, Ey    = Exycomponenten(q, xQ, yQ, xP, yP)\n",
    "\n",
    "    return Ex,Ey"
   ]
  },
  {
   "cell_type": "markdown",
   "id": "7e4e5d4b",
   "metadata": {},
   "source": [
    "### 3.3. Elektrische veldsterkte door meerdere puntladingen op elk gridpunt"
   ]
  },
  {
   "cell_type": "code",
   "execution_count": null,
   "id": "b985e74a",
   "metadata": {},
   "outputs": [],
   "source": [
    "# Electric field vector, E=(Ex, Ey), as separate components\n",
    "Ex = np.zeros((ny, nx))\n",
    "Ey = np.zeros((ny, nx))\n",
    "for charge in charges:\n",
    "    ex, ey = E(charge[0],charge[1], x=X, y=Y)\n",
    "    Ex += ex\n",
    "    Ey += ey"
   ]
  }
 ],
 "metadata": {
  "kernelspec": {
   "display_name": "Python 3 (ipykernel)",
   "language": "python",
   "name": "python3"
  },
  "language_info": {
   "codemirror_mode": {
    "name": "ipython",
    "version": 3
   },
   "file_extension": ".py",
   "mimetype": "text/x-python",
   "name": "python",
   "nbconvert_exporter": "python",
   "pygments_lexer": "ipython3",
   "version": "3.9.7"
  }
 },
 "nbformat": 4,
 "nbformat_minor": 5
}
