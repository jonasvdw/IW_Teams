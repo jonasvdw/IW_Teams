{
 "cells": [
  {
   "attachments": {},
   "cell_type": "markdown",
   "id": "f4c195e4",
   "metadata": {},
   "source": [
    "# Gretige Algoritmen: opgaven\n",
    "\n",
    "> **Opmerking**\n",
    ">\n",
    "> Bij elke oefening schrijf je op papier eerst het algoritme uit dat je gaat gebruiken. Leg dit voor aan de leerkracht en begin daarna met het schrijven van code. \n",
    "\n",
    "## OEF 1: Kleinste pad\n",
    "https://dodona.be/nl/activities/784720986/\n",
    "\n",
    "Een kikker springt in het onderstaande rooster telkens naar het vakje rechts, of naar het vakje eronder. Welke route geeft de kleinste som?\n",
    "\n",
    "<img src='https://raw.githubusercontent.com/jonasvdw/IW_Teams/main/media/P6_project3_kikker.png' width='50%' >\n",
    "\n",
    "De kikker begint steeds op het vakje links boven en moet eindigen op het vakje rechts onderaan.\n",
    "\n",
    "Schrijf een functie `kleinste_pad(tabel)` die gegeven een matrix met gehele getallen, de som bepaalt van het kleinste pad. Maak gebruik van een gretig algoritme, dat wil zeggen: op elk vakje kijkt de kikker niet vooruit, maar springt hij gewoon naar het kleinste getal.\n",
    "\n",
    "**Voorbeeld**\n",
    "\n",
    "```python\n",
    "kleinste_pad([[ -3,  7, -3, -6, -5, -4, -10], \n",
    "              [  2, 10,  5, -4,  9,  1,  -9], \n",
    "              [-10,  3, -4,  0, -6,  6,   4], \n",
    "              [-10, 10, -1, -7, -7, -5,  -7]])\n",
    "```\n",
    "> `-38`"
   ]
  },
  {
   "cell_type": "code",
   "execution_count": 22,
   "id": "5be09181",
   "metadata": {},
   "outputs": [],
   "source": [
    "def kleinste_pad(tabel):\n",
    "    x = 0\n",
    "    y = 0\n",
    "    max_x = len(tabel) - 1\n",
    "    max_y = len(tabel[0]) - 1\n",
    "    som = tabel[x][y]\n",
    "    while x != max_x or y != max_y:\n",
    "        if x == max_x:\n",
    "            onder = tabel[x][y+1]\n",
    "            som += onder\n",
    "            y = y+1\n",
    "        elif y == max_y:\n",
    "            rechts = tabel[x+1][y]\n",
    "            som += rechts\n",
    "            x = x+1\n",
    "        else:\n",
    "            onder = tabel[x][y+1]\n",
    "            rechts = tabel[x+1][y]\n",
    "            if rechts < onder:\n",
    "                som += rechts\n",
    "                x = x+1\n",
    "            else:\n",
    "                som += onder\n",
    "                y = y+1\n",
    "    return som\n",
    "               "
   ]
  },
  {
   "cell_type": "code",
   "execution_count": 24,
   "id": "a3e47621",
   "metadata": {},
   "outputs": [
    {
     "data": {
      "text/plain": [
       "-38"
      ]
     },
     "execution_count": 24,
     "metadata": {},
     "output_type": "execute_result"
    }
   ],
   "source": [
    "tabel = [[ -3,  7, -3, -6, -5, -4, -10], \n",
    "    [  2, 10,  5, -4,  9,  1,  -9], \n",
    "    [-10,  3, -4,  0, -6,  6,   4], \n",
    "    [-10, 10, -1, -7, -7, -5,  -7]]\n",
    "\n",
    "kleinste_pad(tabel)"
   ]
  },
  {
   "attachments": {},
   "cell_type": "markdown",
   "id": "7306adee",
   "metadata": {},
   "source": [
    "## OEF 2: Planningsprobleem\n",
    "https://dodona.be/nl/activities/991411711/\n",
    "\n",
    "Gegeven is een reeks van $n$ uit te voeren taken, die allemaal dezelfde tijd vragen; stel voor de eenvoud dat elke taak 1 tijdseenheid duurt. Voor elke taak is een deadline gegeven, evenals een boete die moet betaald worden als de taak niet tegen de deadline uitgevoerd is. Gevraagd is een planning voor de taken op te stellen, zodanig dat de totale boete geminimaliseerd wordt. Ontwerp hiervoor een gretig algoritme.\n",
    "\n",
    "Schrijf een functie `plan(taken)`, die als invoer een lijst taken verwacht, en een lijst terug geeft waarin de taken zijn geordend in hun volgorde van uitvoeren (zonder dat de deadline wordt overschreden). De taak die op positie $i$ staat in de teruggegeven lijst, wordt op tijdstip $i$ uitgevoerd. De resultaatlijst bevat enkel taken die volgens die planning binnen de deadline uitgevoerd worden. (De resultaatlijst kan ook `\"None\"` bevatten als er op die tijdstippen geen taken dienen uitgevoerd te worden.)\n",
    "\n",
    "Een taak wordt voorgesteld als een tuple `(deadline, boete)`.\n",
    "\n",
    "**Voorbeelden**\n",
    "\n",
    "```python\n",
    "plan([(4, 5), (10, 6), (3, 4), (5, 10), (4, 8), (5, 13), (2, 4), (7, 17), (5, 12), (3, 9)])\n",
    "```\n",
    "> `[(4, 8), (3, 9), (5, 10), (5, 12), (5, 13), None, (7, 17), None, None, (10, 6)]`\n",
    "\n",
    "```python\n",
    "plan([(1, 4), (1, 8), (1, 3), (1, 12), (1, 7)])\n",
    "```\n",
    "> `[(1, 12)]`\n",
    "\n",
    "```python\n",
    "plan([(4, 5), (10, 6), (3, 4), (5, 10), (4, 8), (8, 13), (2, 4), (7, 17), (7, 12), (10, 9)])\n",
    "```\n",
    "> `[(2, 4), (3, 4), (4, 5), (4, 8), (5, 10), (7, 12), (7, 17), (8, 13), (10, 6), (10, 9)]`"
   ]
  },
  {
   "cell_type": "code",
   "execution_count": null,
   "id": "b7f75c78",
   "metadata": {},
   "outputs": [],
   "source": [
    "def plan(taken):\n",
    "    "
   ]
  },
  {
   "attachments": {},
   "cell_type": "markdown",
   "id": "1955f2b2",
   "metadata": {},
   "source": [
    "## OEF 3: Disjuncte intervallen\n",
    "\n",
    "https://www.geeksforgeeks.org/greedy-algorithms-general-structure-and-applications/\n",
    "\n",
    "Gegeven een verzameling van $N$ (open) intervallen, bepaal een maximale verzameling van onderling disjuncte intervallen. Twee intervallen $[i, j]$ en $[k, l]$ zijn disjunct als ze geen enkel punt gemeen hebben.\n",
    "\n",
    "**Voorbeelden**\n",
    "\n",
    "```python\n",
    "disjunct([[1,4], [2,3],\n",
    "          [4,6], [8,9]])\n",
    "```\n",
    "> `[[2, 3], [4, 6], [8, 9]]`"
   ]
  },
  {
   "cell_type": "code",
   "execution_count": 34,
   "id": "02b5937c",
   "metadata": {},
   "outputs": [],
   "source": [
    "def func(x):\n",
    "    return x[1]\n",
    "\n",
    "def disjunct(intervallen):\n",
    "    # de functie 'sort' sorteert de intervallen op de linkergrens.\n",
    "    intervallen.sort(key=func)\n",
    "    selectie = []\n",
    "    selectie.append(intervallen[0])\n",
    "\n",
    "    for x in intervallen:\n",
    "        boven_vorige = selectie[-1][1]\n",
    "        onder_nieuwe = x[0]\n",
    "\n",
    "        if boven_vorige <= onder_nieuwe:\n",
    "            \n",
    "            selectie.append(x)\n",
    "        \n",
    "    return selectie\n"
   ]
  },
  {
   "cell_type": "code",
   "execution_count": 35,
   "id": "672c2a6b",
   "metadata": {},
   "outputs": [
    {
     "data": {
      "text/plain": [
       "[[2, 3], [4, 6], [8, 9]]"
      ]
     },
     "execution_count": 35,
     "metadata": {},
     "output_type": "execute_result"
    }
   ],
   "source": [
    "intervallen = [ [1,4], [2,3],\n",
    "               [4,6], [8,9]]\n",
    "\n",
    "disjunct(intervallen)"
   ]
  }
 ],
 "metadata": {
  "kernelspec": {
   "display_name": "Python 3 (ipykernel)",
   "language": "python",
   "name": "python3"
  },
  "language_info": {
   "codemirror_mode": {
    "name": "ipython",
    "version": 3
   },
   "file_extension": ".py",
   "mimetype": "text/x-python",
   "name": "python",
   "nbconvert_exporter": "python",
   "pygments_lexer": "ipython3",
   "version": "3.10.6"
  }
 },
 "nbformat": 4,
 "nbformat_minor": 5
}
