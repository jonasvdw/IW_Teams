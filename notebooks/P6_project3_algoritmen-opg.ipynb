{
 "cells": [
  {
   "attachments": {},
   "cell_type": "markdown",
   "id": "f4c195e4",
   "metadata": {},
   "source": [
    "# Gretige Algoritmen: opgaven\n",
    "\n",
    "> **Opmerking**\n",
    ">\n",
    "> Bij elke oefening schrijf je op papier eerst het algoritme uit dat je gaat gebruiken. Leg dit voor aan de leerkracht en begin daarna met het schrijven van code. \n",
    "\n",
    "## OEF 1: Kleinste pad\n",
    "https://dodona.be/nl/activities/784720986/\n",
    "\n",
    "Een kikker springt in het onderstaande rooster telkens naar het vakje rechts, of naar het vakje eronder. Welke route geeft de kleinste som?\n",
    "\n",
    "<img src='https://raw.githubusercontent.com/jonasvdw/IW_Teams/main/media/P6_project3_kikker.png' width='50%' >\n",
    "\n",
    "De kikker begint steeds op het vakje links boven en moet eindigen op het vakje rechts onderaan.\n",
    "\n",
    "Schrijf een functie `kleinste_pad(rooster)` die gegeven een matrix met gehele getallen, de som bepaalt van het kleinste pad. Maak gebruik van een gretig algoritme, dat wil zeggen: op elk vakje kijkt de kikker niet vooruit, maar springt hij gewoon naar het kleinste getal.\n",
    "\n",
    "**Voorbeeld.**\n",
    "\n",
    "```python\n",
    "kleinste_pad([[ -3,  7, -3, -6, -5, -4, -10], \n",
    "              [  2, 10,  5, -4,  9,  1,  -9], \n",
    "              [-10,  3, -4,  0, -6,  6,   4], \n",
    "              [-10, 10, -1, -7, -7, -5,  -7]])\n",
    "```\n",
    "> `-38`"
   ]
  },
  {
   "cell_type": "code",
   "execution_count": 64,
   "id": "5be09181",
   "metadata": {},
   "outputs": [],
   "source": [
    "def kleinste_pad(rooster):\n",
    "    x = 0\n",
    "    y = 0\n",
    "    # Bepaal de lengte en breedte van het rooster\n",
    "    max_x = len(rooster) - 1\n",
    "    max_y = len(rooster[0]) - 1\n",
    "    # Stel de som in op het beginvakje\n",
    "    som = rooster[x][y]\n",
    "\n",
    "    # Ga door zolang het vakje rechtsonder niet bereikt is \n",
    "    while x != max_x or y != max_y:\n",
    "        # In de rechtse kolom: ga sowieso naar onder\n",
    "        if x == max_x:\n",
    "            onder = rooster[x][y+1]\n",
    "            som += onder\n",
    "            y = y+1\n",
    "        # In de onderste rij: ga sowieso naar rechts\n",
    "        elif y == max_y:\n",
    "            rechts = rooster[x+1][y]\n",
    "            som += rechts\n",
    "            x = x+1\n",
    "        # Anders: controleer of het vakje rechts of eronder lager is  \n",
    "        else:\n",
    "            onder = rooster[x][y+1]\n",
    "            rechts = rooster[x+1][y]\n",
    "            if rechts < onder:\n",
    "                som += rechts\n",
    "                x = x+1\n",
    "            else:\n",
    "                som += onder\n",
    "                y = y+1\n",
    "    return som\n",
    "               "
   ]
  },
  {
   "cell_type": "code",
   "execution_count": 65,
   "id": "a3e47621",
   "metadata": {},
   "outputs": [
    {
     "data": {
      "text/plain": [
       "-38"
      ]
     },
     "execution_count": 65,
     "metadata": {},
     "output_type": "execute_result"
    }
   ],
   "source": [
    "rooster = [[ -3,  7, -3, -6, -5, -4, -10], \n",
    "    [  2, 10,  5, -4,  9,  1,  -9], \n",
    "    [-10,  3, -4,  0, -6,  6,   4], \n",
    "    [-10, 10, -1, -7, -7, -5,  -7]]\n",
    "\n",
    "kleinste_pad(rooster)"
   ]
  },
  {
   "attachments": {},
   "cell_type": "markdown",
   "id": "1955f2b2",
   "metadata": {},
   "source": [
    "## OEF 2: Disjuncte intervallen\n",
    "\n",
    "https://www.geeksforgeeks.org/greedy-algorithms-general-structure-and-applications/\n",
    "\n",
    "Gegeven een verzameling van $N$ (open) intervallen, bepaal een maximale verzameling van onderling disjuncte intervallen. Twee intervallen $[i, j]$ en $[k, l]$ zijn disjunct als ze geen enkel punt gemeen hebben.\n",
    "\n",
    "**Voorbeeld.**\n",
    "\n",
    "```python\n",
    "disjunct([[1,4], [2,3],\n",
    "          [4,6], [8,9]])\n",
    "```\n",
    "> `[[2, 3], [4, 6], [8, 9]]`"
   ]
  },
  {
   "cell_type": "code",
   "execution_count": 66,
   "id": "02b5937c",
   "metadata": {},
   "outputs": [],
   "source": [
    "# Definieer een sleutel om intervallen te sorteren op bovengrens\n",
    "def bovengrens(interval):\n",
    "    return interval[1]\n",
    "\n",
    "def disjunct(intervallen):\n",
    "    # Sorteer intervallen volgens aangepaste sleutel\n",
    "    intervallen.sort(key=bovengrens)\n",
    "\n",
    "    # Voeg het interval met de laagste ondergrens al toe aan de selectie\n",
    "    selectie = []\n",
    "    selectie.append(intervallen[0])\n",
    "\n",
    "    # Overloop de intervallen in volgorde\n",
    "    for interval in intervallen:\n",
    "        # Voeg een interval toe als de ondergrens groter is dan de bovengrens van de laatste in de selectie \n",
    "        onder_nieuwe = interval[0]\n",
    "        boven_vorige = selectie[-1][1]\n",
    "        if onder_nieuwe >= boven_vorige:\n",
    "            selectie.append(interval)\n",
    "    return selectie\n"
   ]
  },
  {
   "cell_type": "code",
   "execution_count": 67,
   "id": "672c2a6b",
   "metadata": {},
   "outputs": [
    {
     "data": {
      "text/plain": [
       "[[2, 3], [4, 6], [8, 9]]"
      ]
     },
     "execution_count": 67,
     "metadata": {},
     "output_type": "execute_result"
    }
   ],
   "source": [
    "intervallen = [ [1,4], [2,3],\n",
    "               [4,6], [8,9]]\n",
    "\n",
    "disjunct(intervallen)"
   ]
  },
  {
   "attachments": {},
   "cell_type": "markdown",
   "id": "7306adee",
   "metadata": {},
   "source": [
    "## OEF 3: Planningsprobleem\n",
    "https://dodona.be/nl/activities/991411711/\n",
    "\n",
    "Gegeven is een reeks van $n$ uit te voeren taken, die allemaal dezelfde tijd vragen; stel voor de eenvoud dat elke taak 1 tijdseenheid duurt. Voor elke taak is een deadline gegeven, evenals een boete die moet betaald worden als de taak niet vóór de deadline is uitgevoerd. Gevraagd is een planning voor de taken op te stellen, zodanig dat de totale boete geminimaliseerd wordt. Ontwerp hiervoor een gretig algoritme.\n",
    "\n",
    "Schrijf een functie `plan(taken)`, die als invoer een lijst taken verwacht, voorgesteld als `(deadline, boete)`. Als uitvoer wordt een lijst `planning` terug gegeven, waarin de taken zijn geordend in hun volgorde van uitvoeren en zonder dat de deadline wordt overschreden. Een taak met deadline 2 mag bijvoorbeeld enkel op positie 0 of 1 staan. De planning kan ook nullen bevatten, als er op die tijdstippen geen taken uitgevoerd worden.\n",
    "\n",
    "**Voorbeelden.**\n",
    "\n",
    "```python\n",
    "plan([(4, 5), (10, 6), (3, 4), (5, 10), (4, 8), (5, 13), (2, 4), (7, 17), (5, 12), (3, 9)])\n",
    "```\n",
    "> `[(4, 8), (3, 9), (5, 10), (5, 12), (5, 13), None, (7, 17), None, None, (10, 6)]`\n",
    "\n",
    "```python\n",
    "plan([(1, 4), (1, 8), (1, 3), (1, 12), (1, 7)])\n",
    "```\n",
    "> `[(1, 12)]`\n",
    "\n",
    "```python\n",
    "plan([(4, 5), (10, 6), (3, 4), (5, 10), (4, 8), (8, 13), (2, 4), (7, 17), (7, 12), (10, 9)])\n",
    "```\n",
    "> `[(2, 4), (3, 4), (4, 5), (4, 8), (5, 10), (7, 12), (7, 17), (8, 13), (10, 6), (10, 9)]`"
   ]
  },
  {
   "cell_type": "code",
   "execution_count": 68,
   "id": "b7f75c78",
   "metadata": {},
   "outputs": [],
   "source": [
    "# Sorteer de taken op boete\n",
    "def boete(taak):\n",
    "    return taak[1]\n",
    "\n",
    "def plan(taken):\n",
    "    # Sorteer taken volgens aangepaste sleutel,  van laag naar hoog\n",
    "    taken.sort(key=boete, reverse=True)\n",
    "    # Initialiseer de planning met nullen\n",
    "    planning = [0 for i in range(len(taken))]\n",
    "    tot_boete = 0\n",
    "\n",
    "    # Overloop de taken volgens dalende boete\n",
    "    for taak in taken:\n",
    "        deadline = taak[0]\n",
    "        gepland = False\n",
    "        # Plan een taak op het laatst mogelijke moment in\n",
    "        t = deadline-1\n",
    "        while not gepland and t >= 0:\n",
    "            if planning[t] == 0:\n",
    "                planning[t] = taak\n",
    "                gepland = True\n",
    "            else:\n",
    "                t -= 1\n",
    "        if not gepland:\n",
    "            tot_boete += taak[1]\n",
    "            \n",
    "    print('Totale boete:', tot_boete)\n",
    "    return planning\n",
    "    "
   ]
  },
  {
   "cell_type": "code",
   "execution_count": 69,
   "id": "df7249b2",
   "metadata": {},
   "outputs": [
    {
     "name": "stdout",
     "output_type": "stream",
     "text": [
      "Totale boete: 13\n"
     ]
    },
    {
     "data": {
      "text/plain": [
       "[(4, 8), (3, 9), (5, 10), (5, 12), (5, 13), 0, (7, 17), 0, 0, (10, 6)]"
      ]
     },
     "execution_count": 69,
     "metadata": {},
     "output_type": "execute_result"
    }
   ],
   "source": [
    "taken = [(4, 5), (10, 6), (3, 4), (5, 10), (4, 8), (5, 13), (2, 4), (7, 17), (5, 12), (3, 9)]\n",
    "plan(taken)"
   ]
  },
  {
   "attachments": {},
   "cell_type": "markdown",
   "id": "011010fa",
   "metadata": {},
   "source": [
    "## OEF 4: Knapsack\n",
    "https://dodona.be/nl/activities/2108825429/\n",
    "\n",
    "https://dodona.be/nl/activities/225388857/\n",
    "\n",
    "Een gekend probleem uit de informaticawetenschappen is het zogenaamde knapsack (rugzak) probleem.\n",
    "\n",
    "Gegeven is een rugzak die een maximaal gewicht kan vervoeren en een lijst met boeken van verschillende massas en hun kostprijs. Bepaal dan welke boeken men kan meenemen zodat de waarde van de rugzak maximaal is.\n",
    "\n",
    "<!-- <img src='https://raw.githubusercontent.com/jonasvdw/IW_Teams/main/media/P6_project3_knapsack.png' width='50%' >\n",
    "\n",
    "In dit voorbeeld neem je het best drie gele en drie grijze boeken mee. In dat geval zit de rugzak volledig vol (15 kg) en bedraagt de waarde $3 \\cdot 10 + 3 \\cdot 2 = 36$. Dit is de grootste waarde die je mee kan nemen. -->\n",
    "\n",
    "Schrijf een functie `knapsack` die als invoer het maximale gewicht van de rugzak en een lijst met boeken, elk van de vorm `(massa, prijs)` , de optimale samenstelling zoekt. De functie drukt de \n",
    "\n",
    "**Voorbeelden.**\n",
    "\n",
    "```python\n",
    "max_gew = 60\n",
    "boeken = [(48, 40), (4, 20), (4, 10), (8, 20), (16, 60)]\n",
    "knapsack(max_gew, boeken)\n",
    "```\n",
    "> ```\n",
    "> Tot. waarde: 110\n",
    ">[(4, 20),\n",
    "> (16, 60),\n",
    "> (4, 10),\n",
    "> (8, 20)]\n",
    "> ```\n",
    "\n",
    "```python\n",
    "max_gew = 400\n",
    "boeken = [(23, 977), (20, 588), (45, 836), (89, 652), (44, 358), (89, 265), (37, 625), (90, 702), (30, 927), (99, 894), (86, 192), (57, 300), (46, 901), (80, 252), (95, 133), (85, 628), (33, 397), (44, 253), (86, 305), (97, 501)]\n",
    "knapsack(max_gew, boeken)\n",
    "```\n",
    "> ```\n",
    "> Tot. waarde: 6503\n",
    ">[(23, 977),\n",
    "> (30, 927),\n",
    "> (20, 588),\n",
    "> (46, 901),\n",
    "> (45, 836),\n",
    "> (37, 625),\n",
    "> (33, 397),\n",
    "> (99, 894),\n",
    "> (44, 358)]\n",
    "> ```"
   ]
  },
  {
   "cell_type": "code",
   "execution_count": null,
   "id": "39044a0e",
   "metadata": {},
   "outputs": [],
   "source": [
    "# Sorteer de boeken op relatieve waarde (prijs / kg)\n",
    "def rel_waarde(boek):\n",
    "    return boek[1] / boek[0]\n",
    "\n",
    "def knapsack(max_gew, boeken):\n",
    "    boeken.sort(key=rel_waarde, reverse=True)\n",
    "    restgew = max_gew\n",
    "    selectie = []\n",
    "    waarde = 0\n",
    "    \n",
    "    # Overloop de taken volgens dalende relatieve waarde\n",
    "    for boek in boeken:\n",
    "        aantal = restgew // boek[0]\n",
    "        if boek[0] <= restgew:\n",
    "            restgew -= boek[0]\n",
    "            waarde += boek[1]\n",
    "            selectie.append(boek)\n",
    "            \n",
    "    print('Tot. waarde:', waarde)\n",
    "    return selectie"
   ]
  },
  {
   "cell_type": "code",
   "execution_count": null,
   "id": "7be97c7e",
   "metadata": {},
   "outputs": [
    {
     "name": "stdout",
     "output_type": "stream",
     "text": [
      "Tot. waarde: 6503\n"
     ]
    },
    {
     "data": {
      "text/plain": [
       "[(23, 977),\n",
       " (30, 927),\n",
       " (20, 588),\n",
       " (46, 901),\n",
       " (45, 836),\n",
       " (37, 625),\n",
       " (33, 397),\n",
       " (99, 894),\n",
       " (44, 358)]"
      ]
     },
     "metadata": {},
     "output_type": "display_data"
    }
   ],
   "source": [
    "boeken = [(23, 977), (20, 588), (45, 836), (89, 652), (44, 358), (89, 265), (37, 625), (90, 702),\n",
    "          (30, 927), (99, 894), (86, 192), (57, 300), (46, 901), (80, 252), (95, 133), (85, 628),\n",
    "          (33, 397), (44, 253), (86, 305), (97, 501)]\n",
    "knapsack(400, boeken)"
   ]
  },
  {
   "attachments": {},
   "cell_type": "markdown",
   "id": "951d632a",
   "metadata": {},
   "source": [
    "## OEF 5: De laatste steen\n",
    "\n",
    "https://leetcode.com/problems/last-stone-weight\n",
    "\n",
    "Twee reuzen houden een wedstrijd om te beslissen wie van hen de sterkste is. Op de grond ligt een hoop stenen en om beurten neemt elke reus de twee zwaarste stenen, en slaat ze kapot tegen elkaar.  Neem aan dat de stenen respectievelijk massa's $x$ en $y$ hebben. Het resultaat van de botsing is als volgt.\n",
    "\n",
    "* Als $x = y$ is, dan zijn beide stenen verpulverd.\n",
    "* Als $x > y$ is, dan is de tweede steen vernietigd en heeft de grootste steen nu een massa van $x-y$. Voor $x < y$ geldt een analoog resultaat.\n",
    "\n",
    "Uiteindelijk blijft er (hoogstens) één steen over.\n",
    "\n",
    "Schrijf een functie `laatste_steen` die als invoer een lijst met massa's van stenen krijgt. Als uitvoer geeft deze functie de massa van de overblijvende steen terug, of `0` als er geen stenen meer over zijn. Gebruik hiervoor een prioriteitswachtrij.\n",
    "\n",
    "**Voorbeelden.**\n",
    "\n",
    "```python\n",
    "laatste_steen([3, 1])\n",
    "```\n",
    "> `2`\n",
    "\n",
    "```python\n",
    "laatste_steen([1, 1])\n",
    "```\n",
    "> `0`\n",
    "\n",
    "```python\n",
    "laatste_steen([2, 7, 4, 1, 8, 1])\n",
    "```\n",
    "> `1`"
   ]
  },
  {
   "cell_type": "code",
   "execution_count": 28,
   "id": "99ba2960",
   "metadata": {},
   "outputs": [],
   "source": [
    "from heapq import heapify, heappop, heappush\n",
    "\n",
    "def laatste_steen(stenen):\n",
    "    # Maak een wachtrij aan met negatieve getallen, zodanig dat de grootste massa's eerst gekozen worden \n",
    "    pq = [-x for x in stenen]\n",
    "    heapify(pq)\n",
    "    \n",
    "    # Zolang er nog minstens twee stenen zijn, worden ze kapot geslagen\n",
    "    while len(pq) > 1:\n",
    "        x = heappop(pq)\n",
    "        y = heappop(pq)\n",
    "        if x > y:\n",
    "            heappush(pq, x-y)\n",
    "        elif x < y:\n",
    "            heappush(pq, y-x)\n",
    "    \n",
    "    # Controleer of er één of geen stenen meer zijn \n",
    "    if len(pq) == 1:\n",
    "        return heappop(pq)\n",
    "    else:\n",
    "        return 0\n",
    "        "
   ]
  },
  {
   "cell_type": "code",
   "execution_count": 29,
   "id": "92c212e0",
   "metadata": {},
   "outputs": [
    {
     "data": {
      "text/plain": [
       "1"
      ]
     },
     "execution_count": 29,
     "metadata": {},
     "output_type": "execute_result"
    }
   ],
   "source": [
    "laatste_steen([2, 7, 4, 1, 8, 1])"
   ]
  },
  {
   "attachments": {},
   "cell_type": "markdown",
   "id": "b0b10b8c",
   "metadata": {},
   "source": [
    "## OEF 6: Verste gebouw\n",
    "\n",
    "https://leetcode.com/problems/furthest-building-you-can-reach\n",
    "\n",
    "Beschouw het volgende spel. Een personage bevindt zich op het dak van een gebouw en probeert naar het volgende gebouw te klimmen met behulp van een aantal ladders en bakstenen, die hij met zich meedraagt. Als het huidige gebouw hoogte $h_i$ heeft en het volgende gebouw hoogte $h_{i+1}$ heeft, heeft hij de volgende mogelijkheden.\n",
    "\n",
    "* Als $h_i \\geq h_{i+1}$ is, dan kan hij zonder problemen naar het volgende gebouw klimmen.\n",
    "* Als $h_i < h_{i+1}$ is, dan kan hij ofwel het verschil $d = h_{i+1} - h_i$ overbruggen met $d$ bakstenen, ofwel één ladder gebruiken (onafhankelijk van het verschil).\n",
    "\n",
    "Het doel van het spel is om zo ver mogelijk te geraken met de beschikbare ladders en bakstenen. Je mag aannemen dat de hoogtes van de gebouwen steeds gehele getallen zijn.\n",
    "\n",
    "Schrijf een functie `verste_gebouw` die als invoer een lijst met hoogtes van gebouwen krijgt, en het beschikbare aantal bakstenen en ladders. Als uitvoer geeft deze functie het nummer van het verst bereikbare gebouw. Gebruik hiervoor een gretig algoritme.\n",
    "\n",
    "**Voorbeelden.**\n",
    "\n",
    "```python\n",
    "verste_gebouw(hoogtes = [4,2,7,6,9,14,12],\n",
    "              bakstenen = 5,\n",
    "              ladders = 1)\n",
    "```\n",
    "> `4`\n",
    "\n",
    "Verklaring: Begin op gebouw 0, met hoogte 4.\n",
    "* Ga naar gebouw 1 zonder een ladder of bakstenen te gebruiken ($4 \\geq 2$).\n",
    "* Plaats (voorlopig) een ladder om naar gebouw 2 te gaan ($2 < 7$).\n",
    "* Ga naar gebouw 3 zonder een ladder of bakstenen te gebruiken ($7 \\geq 6$).\n",
    "* Om naar gebouw 4 te gaan, hebben we een ladder of bakstenen nodig ($6 < 9$). Er zijn geen ladders meer over, dus controleren we of we een ladder kunnen vervangen door bakstenen. Aangezien het nieuwe verschil $d = 3$ kleiner is dan alle vorige verschillen (hier enkel 5), leggen we hier bakstenen en houden we er dus nog 2 over.\n",
    "* Naar gebouw 5 kunnen we niet meer gaan, want we hebben geen ladders meer over en het verschil $d = 14 - 9 = 5$ is groter dan het resterende aantal bakstenen. \n",
    "\n",
    "<img src='https://raw.githubusercontent.com/jonasvdw/IW_Teams/main/media/P6_project3_farthest_building.gif' width='50%' >\n",
    "\n",
    "```python\n",
    "verste_gebouw(hoogtes = [4,12,2,7,3,18,20,3,19],\n",
    "              bakstenen = 10,\n",
    "              ladders = 2)\n",
    "```\n",
    "> `7`\n",
    "\n",
    "```python\n",
    "verste_gebouw(hoogtes = [14,3,19,3],\n",
    "              bakstenen = 17,\n",
    "              ladders = 0)\n",
    "```\n",
    "> `3`"
   ]
  },
  {
   "cell_type": "code",
   "execution_count": 59,
   "metadata": {},
   "outputs": [],
   "source": [
    "from heapq import heapify, heappop, heappush\n",
    "\n",
    "def verste_gebouw(hoogtes, bakstenen, ladders):\n",
    "    # Maak een wachtrij aan met de beklimmingen\n",
    "    klimmen = []\n",
    "    heapify(klimmen)\n",
    "    gebouw = 0\n",
    "\n",
    "    # Ga door zolang er nog bakstenen zijn en het laatste gebouw niet bereikt is\n",
    "    while bakstenen > 0 and gebouw < len(hoogtes) - 1:\n",
    "        # Als het verschil > 0 is, voeg het toe aan de wachtrij met beklimmingen\n",
    "        d = hoogtes[gebouw + 1] - hoogtes[gebouw]\n",
    "        if d > 0:\n",
    "            heappush(klimmen, d)\n",
    "        \n",
    "        # Als je meer beklimmingen hebt dan ladders, vervang de laagste beklimming door bakstenen\n",
    "        if len(klimmen) > ladders:\n",
    "            bakstenen -= heappop(klimmen)\n",
    "\n",
    "        gebouw += 1\n",
    "    \n",
    "    # Ofwel aantal bakstenen negatief geworden, en zit je één gebouw te ver ...\n",
    "    if bakstenen < 0:\n",
    "        return gebouw - 1\n",
    "    # ... ofwel is het laatste gebouw bereikt\n",
    "    else:\n",
    "        return gebouw"
   ]
  },
  {
   "cell_type": "code",
   "execution_count": 60,
   "id": "de83cafd",
   "metadata": {},
   "outputs": [
    {
     "data": {
      "text/plain": [
       "7"
      ]
     },
     "execution_count": 60,
     "metadata": {},
     "output_type": "execute_result"
    }
   ],
   "source": [
    "verste_gebouw(hoogtes = [4,12,2,7,3,18,20,3,19],\n",
    "              bakstenen = 10,\n",
    "              ladders = 2)"
   ]
  }
 ],
 "metadata": {
  "kernelspec": {
   "display_name": "Python 3 (ipykernel)",
   "language": "python",
   "name": "python3"
  },
  "language_info": {
   "codemirror_mode": {
    "name": "ipython",
    "version": 3
   },
   "file_extension": ".py",
   "mimetype": "text/x-python",
   "name": "python",
   "nbconvert_exporter": "python",
   "pygments_lexer": "ipython3",
   "version": "3.10.6"
  }
 },
 "nbformat": 4,
 "nbformat_minor": 5
}
