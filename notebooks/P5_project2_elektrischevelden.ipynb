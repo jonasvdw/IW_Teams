{
 "cells": [
  {
   "cell_type": "markdown",
   "id": "2d7931c7",
   "metadata": {},
   "source": [
    "# Visualiseren van elektrische velden rondom één of meerdere ladingen\n",
    "\n",
    "## 1. De elektrische veldsterkte $\\vec{E}$\n",
    "\n",
    "### 1.1. $\\vec{E}$ beschrijven op een r-as\n",
    "\n",
    "In een punt P op een afstand _r_ van een elektrische lading _Q_ wordt de elektrische veldsterkte beschreven door\n",
    "$$\n",
    "\\vec{E} = k \\, \\frac{Q}{r^2} \\, \\vec{e_r}\n",
    "$$\n",
    "met $k = 8,99 \\times 10^9 \\frac{N m^2}{C^2}$ de elektrische krachtconstante en $\\vec{e_r}$ de eenheidsvector in de\n",
    "radiale richting weg van de lading _Q_ zoals op onderstaande figuur waarbij $\\vec{E}$ dezelfde richting en zin heeft als de gekozen _r-as_ die loopt volgens de verbindingslijn tussen de lading _Q_ en het punt P.\n",
    "\n",
    "<img src='https://github.com/jonasvdw/IW_Teams/blob/main/media/P5_project2_E-ras.png?raw=true' width='50%'>\n",
    "\n",
    "In bovenstaande aanpak kunnen we dus de vector $\\vec{E}$ schrijven als een aantal keer de eenheidsvector $\\vec{e_r}$:\n",
    "$$\n",
    "\\boxed{\\vec{E} = E_r \\, \\vec{e_r} \\quad {\\rm met \\ als \\ component} \\quad E_r = k \\, \\frac{Q}{r^2}}\n",
    "$$"
   ]
  },
  {
   "cell_type": "markdown",
   "id": "861b8914",
   "metadata": {},
   "source": [
    "### 1.2. $\\vec{E}$ beschrijven op een x- en y-as\n",
    "\n",
    "Nu maken we diezelfde theorie even wat moeilijker (stel je voorlopig nog niet de vraag _waarom_), door de elektrische veldsterkte vector voor te stellen in een xy assenstelsel in plaats van op een enkele r-as:\n",
    "\n",
    "<img src='https://github.com/jonasvdw/IW_Teams/blob/main/media/P5_project2_E-xyas.png?raw=true' width='50%'>\n",
    "\n",
    "Het gevolg is dat we in dit xy assenstelsel de vector $\\vec{E}$ niet kunnen beschrijven met één enkele component, we hebben daarentegen twee componenten nodig: $E_x$ volgens de $\\vec{e_x}$ richting en $E_y$ volgens de $\\vec{e_y}$ richting. Zo wordt:\n",
    "$$\n",
    "\\vec{E} = E_x \\vec{e_x} + E_y \\vec{e_y}\n",
    "$$\n",
    "\n",
    "Nu moeten we op zoek naar de componenten $E_x$ en $E_y$.\n",
    "\n",
    "In twee stappen leiden we bijhorende uitdrukkingen hiervoor af, startend van de gekende uitdrukking voor $\\vec{E}$ volgens de r-as (zie bovenstaand kader).\n",
    "\n",
    "- We schrijven de afstand $r$ tussen de lading $Q$ en het punt P in termen van $x$ en $y$ met behulp van de stelling van Pythagoras:\n",
    "$$ r^2 = x^2 + y^2 \\quad {\\rm dus} \\quad r = \\sqrt{x^2 + y^2}. $$\n",
    "\n",
    "- We bepalen de x- en y-componenten van de eenheidsvector $\\vec{e_r}$:\n",
    "$$\n",
    "\\begin{align*}\n",
    "    \\mathrm{x \\ component \\ van \\ } \\vec{e_r} & = 1 \\cdot \\cos\\theta \\\\\n",
    "     & = \\frac{x}{r} \\\\\n",
    "     & = \\frac{x}{\\sqrt{x^2 + y^2}}\n",
    "\\end{align*}\n",
    "$$\n",
    "en\n",
    "$$\n",
    "\\begin{align*}\n",
    "    \\mathrm{y \\ component \\ van \\ } \\vec{e_r} & = 1 \\cdot \\sin\\theta \\\\\n",
    "     & = \\frac{y}{r} \\\\\n",
    "     & = \\frac{y}{\\sqrt{x^2 + y^2}}.\n",
    "\\end{align*}\n",
    "$$\n",
    "\n",
    "Zo worden de componenten van de elektrische veldsterkte $\\vec{E}$ gegeven door:\n",
    "$$\n",
    "\\boxed{\n",
    "\\begin{cases}\n",
    "    E_x & = k \\, \\frac{Q}{(x^2 + y^2)^{3/2}} \\, x \\\\\n",
    "    E_y & = k \\, \\frac{Q}{(x^2 + y^2)^{3/2}} \\, y\n",
    "\\end{cases}\n",
    "}\n",
    "$$"
   ]
  },
  {
   "cell_type": "code",
   "execution_count": null,
   "id": "3cd1c365",
   "metadata": {},
   "outputs": [],
   "source": [
    "k = 1 # 8.9876e9 # Coulomb constant Nm²/C²\n",
    "\n",
    "def E(q, r0, x, y):\n",
    "    # Return the electric field vector E=(Ex,Ey) due to charge q at r0.\n",
    "    den = ((x-r0[0])**2 + (y-r0[1])**2)**1.5 # noemer\n",
    "    E_x = k * q * (x - r0[0]) / den # x component van de elektrische veldsterkte vector\n",
    "    E_y = k * q * (y - r0[1]) / den # y component van de elektrische veldsterkte vector\n",
    "    return E_x , E_y"
   ]
  },
  {
   "cell_type": "markdown",
   "id": "5ff0d0ad",
   "metadata": {},
   "source": [
    "## 2. Voorstelling van de ladingen\n",
    "\n",
    "### 2.1. locatie(s) van één of meerdere ladingen specifiëren\n"
   ]
  },
  {
   "cell_type": "code",
   "execution_count": null,
   "id": "f1ad245b",
   "metadata": {},
   "outputs": [],
   "source": [
    "def locate_charges():\n",
    "    ## Separate charges\n",
    "    charges = []\n",
    "    charges.append( [1, (-1,0)] )\n",
    "    charges.append( [-1, (1,0)] )\n",
    "    return charges"
   ]
  },
  {
   "cell_type": "markdown",
   "id": "01bb9b81",
   "metadata": {},
   "source": [
    "### 2.2. teken de lading(en) op een figuur\n"
   ]
  },
  {
   "cell_type": "code",
   "execution_count": null,
   "id": "7be23b47",
   "metadata": {},
   "outputs": [],
   "source": [
    "import matplotlib.pyplot as plt\n",
    "from matplotlib.patches import Circle\n",
    "\n",
    "WIDTH, HEIGHT, DPI = 700, 700, 100 # figure settings\n",
    "\n",
    "plt.style.use('dark_background')\n",
    "\n",
    "fig = plt.figure(figsize=(WIDTH/DPI, HEIGHT/DPI))\n",
    "ax = fig.add_subplot()\n",
    "fig.subplots_adjust(left=0, right=1, bottom=0, top=1)\n",
    "\n",
    "# Add filled circles for the charges themselves\n",
    "for q, pos in charges:\n",
    "    if q>0:\n",
    "        ax.add_artist(Circle(pos, 0.05, color='tab:red', zorder=10))\n",
    "    else:\n",
    "        ax.add_artist(Circle(pos, 0.05, color='tab:blue', zorder=10))\n",
    "\n",
    "ax.set_xlim(-5,5)\n",
    "ax.set_ylim(-5,5)\n",
    "ax.set_aspect('equal')\n",
    "plt.show()"
   ]
  }
 ],
 "metadata": {
  "kernelspec": {
   "display_name": "Python 3 (ipykernel)",
   "language": "python",
   "name": "python3"
  },
  "language_info": {
   "codemirror_mode": {
    "name": "ipython",
    "version": 3
   },
   "file_extension": ".py",
   "mimetype": "text/x-python",
   "name": "python",
   "nbconvert_exporter": "python",
   "pygments_lexer": "ipython3",
   "version": "3.9.7"
  }
 },
 "nbformat": 4,
 "nbformat_minor": 5
}
