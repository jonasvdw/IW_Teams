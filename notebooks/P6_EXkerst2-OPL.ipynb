{
 "cells": [
  {
   "cell_type": "markdown",
   "id": "8573d877",
   "metadata": {},
   "source": [
    "# EXAMEN IW (december 2024) DEEL 2:\n",
    "## KINEMATICA VAN DE EENPARIG CIRKELVORMIGE BEWEGING (ECB)"
   ]
  },
  {
   "cell_type": "markdown",
   "id": "13d1da79",
   "metadata": {},
   "source": [
    "Een ECB is een tweedimensionale beweging die wordt beschreven in het standaard assenstelsel (_x_ kiezen we horizontaal naar rechts en _y_ kiezen we verticaal omhoog). De kinematische bewegingsvergelijkingen van een ECB met straal 2 m en hoeksnelheid 2$\\pi$ rad/s worden gegeven door:\n",
    "\n",
    "$$\n",
    "\\boxed{\n",
    "\\begin{cases}\n",
    "x(t) &= 2 \\cos(2 \\pi t) \\\\\n",
    "y(t) &= 2 \\sin(2 \\pi t)\n",
    "\\end{cases}\n",
    "}\n",
    "$$"
   ]
  },
  {
   "cell_type": "markdown",
   "id": "791b07de",
   "metadata": {},
   "source": [
    "<span style=\"color:#1569C7\">**Opdracht 1. KINEMATISCHE BEWEGINGSVERGELIJKINGEN**</span> Schrijf de functie `xy(t)` die een integer of float als argument krijgt (dat stelt het tijdstip _t_ voor) en daaruit beide bewegingsvergelijkingen evalueert op dat tijdstip _t_. Merk op dat de uitvoer van jouw functie een lijst is die zowel de x- als y-component bevat.\n",
    "\n",
    "**Voorbeeld:**\n",
    "Bij het uitvoeren van jouw functie met argument 1,6 seconden:\n",
    "```python\n",
    "tijdstip = 1.6\n",
    "# maak hier jouw functie xy(t) aan\n",
    "print( 'Op tijdstip',tijdstip,'s bevindt de puntmassa zich op coordinaat',xy(tijdstip) )\n",
    "```\n",
    "is de uitvoer:\n",
    "```\n",
    "Op tijdstip 1.6 s bevindt de puntmassa zich op coordinaat [-1.6180339887498953, -1.1755705045849456]\n",
    "```"
   ]
  },
  {
   "cell_type": "code",
   "execution_count": 4,
   "id": "70b50460",
   "metadata": {},
   "outputs": [
    {
     "name": "stdout",
     "output_type": "stream",
     "text": [
      "Op tijdstip 1.6 s bevindt de puntmassa zich op coordinaat [-1.6180339887498953, -1.1755705045849456]\n"
     ]
    }
   ],
   "source": [
    "### OPLOSSING\n",
    "import numpy as np\n",
    "\n",
    "tijdstip = 1.6\n",
    "\n",
    "# Definieer de bewegingsvergelijkingen xy(t)\n",
    "def xy(t):\n",
    "    bewx = 2*np.cos(2*np.pi*t)\n",
    "    bewy = 2*np.sin(2*np.pi*t)\n",
    "    return [bewx,bewy]\n",
    "\n",
    "print( 'Op tijdstip',tijdstip,'s bevindt de puntmassa zich op coordinaat',xy(tijdstip) )"
   ]
  },
  {
   "cell_type": "markdown",
   "id": "fe4e3841",
   "metadata": {},
   "source": [
    "<span style=\"color:#1569C7\">**Opdracht 2. SNELHEIDS- EN VERSNELLINGSCOMPONENTEN**</span> Schrijf twee functies `v_xy(t,dt)` en `a_xy(t,dt)` die beiden twee integers of floats als argumenten krijgen, de eerste is een gegeven tijdstip _t_, het tweede is de $\\Delta t$ nodig om de numerieke afgeleide te bepalen. Als resultaat geven jouw functies de x- en y-snelheidscomponenten en de x- en y-versnellingscomponenten op dat tijdstip _t_. Merk op dat de uitvoer van de functies `v_xy(t,dt)` en `a_xy(t,dt)` telkens een lijst is die zowel de x- als y-component bevat, zoals in onderstaand voorbeeld.\n",
    "\n",
    "**TIP:** De numerieke afgeleides voor het berekenen van snelheids- en versnellingscomponenten zijn:\n",
    "\n",
    "<div style=\"width: 100%; font-size: 12px;\">\n",
    "    \n",
    "|                      x - component                         |                         y - component                      |\n",
    "|:----------------------------------------------------------:|:----------------------------------------------------------:|\n",
    "| $v_x(t) \\approx \\frac{x(t+\\Delta t) - x(t)}{\\Delta t}$     | $v_y(t) \\approx \\frac{y(t+\\Delta t) - y(t)}{\\Delta t}$     |\n",
    "| $a_x(t) \\approx \\frac{v_x(t+\\Delta t) - v_x(t)}{\\Delta t}$ | $a_y(t) \\approx \\frac{v_y(t+\\Delta t) - v_y(t)}{\\Delta t}$ |\n",
    "\n",
    "</div>\n",
    "\n",
    "**Voorbeeld:**\n",
    "Bij het uitvoeren van jouw functies met argumenten 1,6 en 0,01 seconden:\n",
    "```python\n",
    "tijdstip = 1.6\n",
    "deltat = 0.001\n",
    "# maak hier jouw functie v_xy(t,dt) aan\n",
    "# maak hier jouw functie a_xy(t,dt) aan\n",
    "print( 'De plaatsfunctie op t=',tijdstip,'is', xy(tijdstip) )\n",
    "print( 'De snelheidscomponenten zijn'   , v_xy(tijdstip,deltat))\n",
    "print( 'De versnellingscomponenten zijn', a_xy(tijdstip,deltat))\n",
    "```\n",
    "is de uitvoer:\n",
    "```\n",
    "De plaatsfunctie op t= 1.6 is [-1.6180339887498953, -1.1755705045849456]\n",
    "De snelheidscomponenten zijn [7.418217327650467, -10.143135737171516]\n",
    "De versnellingscomponenten zijn [63.58435283981834, 46.80994425276808]\n",
    "```"
   ]
  },
  {
   "cell_type": "code",
   "execution_count": 6,
   "id": "6b38dfcb",
   "metadata": {},
   "outputs": [
    {
     "name": "stdout",
     "output_type": "stream",
     "text": [
      "De plaatsfunctie op t= 1.6 is [-1.6180339887498953, -1.1755705045849456]\n",
      "De snelheidscomponenten zijn [7.418217327650467, -10.143135737171516]\n",
      "De versnellingscomponenten zijn [63.58435283981834, 46.80994425276808]\n"
     ]
    }
   ],
   "source": [
    "### OPLOSSING\n",
    "\n",
    "tijdstip = 1.6\n",
    "deltat = 0.001\n",
    "\n",
    "# Numerieke benadering voor de snelheidscomponenten (v_x en v_y)\n",
    "def v_xy(t, dt):\n",
    "    # Numerieke afgeleide van x(t) en y(t)\n",
    "    dx_dt = (xy(t + dt)[0] - xy(t)[0]) / dt\n",
    "    dy_dt = (xy(t + dt)[1] - xy(t)[1]) / dt\n",
    "    return [dx_dt,dy_dt]\n",
    "\n",
    "# Numerieke benadering voor de versnellingscomponenten (a_x en a_y)\n",
    "def a_xy(t, dt):\n",
    "    # Numerieke afgeleide van v_x(t) en v_y(t)\n",
    "    dvx_dt = (v_xy(t + dt,dt)[0] - v_xy(t,dt)[0]) / dt\n",
    "    dvy_dt = (v_xy(t + dt,dt)[1] - v_xy(t,dt)[1]) / dt\n",
    "    return [dvx_dt,dvy_dt]\n",
    "\n",
    "print( 'De plaatsfunctie op t=',tijdstip,'is', xy(tijdstip) )\n",
    "print( 'De snelheidscomponenten zijn'   , v_xy(tijdstip,deltat))\n",
    "print( 'De versnellingscomponenten zijn', a_xy(tijdstip,deltat))"
   ]
  },
  {
   "cell_type": "markdown",
   "id": "5193643f",
   "metadata": {},
   "source": [
    "<span style=\"color:#1569C7\">**Opdracht 3. GRAFISCHE VOORSTELLING VAN VECTOREN**</span> Schrijf een programma dat de positie $\\vec{r}$, snelheid $\\vec{v}$ en versnelling $\\vec{a}$ voor één gegeven tijdstip toont in een grafiek.\n",
    "\n",
    "$$\n",
    "\\begin{cases}\n",
    "\\vec{r} &= x(t) \\ \\, \\vec{e_x} \\ + \\, y(t) \\ \\, \\vec{e_y}\\\\\n",
    "\\vec{v} &= v_x(t) \\ \\vec{e_x} + v_y(t) \\ \\vec{e_y} \\\\\n",
    "\\vec{a} &= a_x(t) \\ \\vec{e_x} + a_y(t) \\ \\vec{e_y} \n",
    "\\end{cases}\n",
    "$$\n",
    "\n",
    "In de grafiek zijn volgende zaken aanwezig:\n",
    "- als een zwarte stip wordt de locatie van de massa getoond,\n",
    "- de positie $\\vec{r}$ wordt getoond als een blauwe vector van de oorsprong tot de massa,\n",
    "- de snelheid $\\vec{v}$ wordt getoond als een groene vector aangrijpend op de massa,\n",
    "- de versnelling $\\vec{a}$ wordt getoond als een rode vector aangrijpend op de massa.\n",
    "\n",
    "> **TIP 1**: Neem zoals in onderstaand voorbeeld de grenzen [-2.5,2.5] voor zowel de x- als de y-as. Je kunt ervoor zorgen dat de snelheidsvector en versnellingsvector binnen de figuur blijven door de vectoren te schalen. Dit doe je door het keyword argument _scale_=10 (voor $\\vec{v}$) en _scale_=50 (voor $\\vec{a}$) te kiezen in de `ax.quiver()` functie.\n",
    "> \n",
    "> **TIP 2**: Je kunt _onder_ deze opdracht een voorbeeldcode vinden om een standaard figuur aan te maken met daarin één enkele vector, zoals we die tijdens het project hebben bestudeerd. Je mag vrij uit de voorbeeldcode kopiëren en plakken om deze opdracht te voltooien.\n",
    "\n",
    "**Voorbeeld:**\n",
    "Bij het uitvoeren van jouw code met de gegeven bewegingsvergelijkingen\n",
    "$$\n",
    "\\begin{cases}\n",
    "x(t) &= 2 \\cos(2\\pi t) \\\\\n",
    "y(t) &= 2 \\sin(2\\pi t)\n",
    "\\end{cases}\n",
    "$$\n",
    "op het tijdstip 1,6 seconden, is de uitvoer de volgende figuur:\n",
    "\n",
    "<img src=\"https://github.com/jonasvdw/IW_Teams/blob/main/media/P6_project2_kinematica-ECB.png?raw=true\" width='30%'>"
   ]
  },
  {
   "cell_type": "code",
   "execution_count": null,
   "id": "3c5675bf",
   "metadata": {},
   "outputs": [],
   "source": []
  },
  {
   "cell_type": "code",
   "execution_count": 8,
   "id": "f3f44a8f",
   "metadata": {},
   "outputs": [
    {
     "data": {
      "image/png": "[encoded data removed]",
      "text/plain": [
       "<Figure size 640x480 with 1 Axes>"
      ]
     },
     "metadata": {},
     "output_type": "display_data"
    }
   ],
   "source": [
    "### OPLOSSING\n",
    "#%matplotlib notebook\n",
    "\n",
    "import numpy as np\n",
    "import matplotlib.pyplot as plt\n",
    "\n",
    "# Teken de massa en de vectoren voor een gegeven tijdstip t\n",
    "def plot_vectors(t):\n",
    "    # Bereken de positie, snelheid en versnelling\n",
    "    x  , y   = xy(t)\n",
    "    v_x, v_y = v_xy(t,0.001)\n",
    "    a_x, a_y = a_xy(t,0.001)\n",
    "    \n",
    "    # Maak een figuur en een as aan\n",
    "    fig = plt.figure()\n",
    "    ax = plt.gca()\n",
    "    ax.set_xlim(-2.5,2.5)\n",
    "    ax.set_ylim(-2.5,2.5)\n",
    "    \n",
    "    # Teken de massa als een zwarte bol\n",
    "    ax.plot(x, y, 'ko', markersize=10, label='m')\n",
    "    \n",
    "    # Teken de positievector als een blauwe pijl vanuit de oorsprong\n",
    "    ax.quiver(0, 0, x, y, angles='xy', scale_units='xy', scale=1, color='blue', label='$\\\\vec{r}$')\n",
    "    \n",
    "    # Teken de snelheidsvector als een groene pijl aangrijpend op de massa\n",
    "    ax.quiver(x, y, v_x, v_y, angles='xy', scale_units='xy', scale=10, color='green', label='$\\\\vec{v}$')\n",
    "    \n",
    "    # Teken de versnellingsvector als een rode pijl aangrijpend op de massa\n",
    "    ax.quiver(x, y, a_x, a_y, angles='xy', scale_units='xy', scale=50, color='red', label='$\\\\vec{a}$')\n",
    "    \n",
    "    # Voeg labels toe aan de assen\n",
    "    ax.axhline(0, color='black',linewidth=0.5)\n",
    "    ax.axvline(0, color='black',linewidth=0.5)\n",
    "    ax.set_xlabel('X')\n",
    "    ax.set_ylabel('Y')\n",
    "    \n",
    "    # Voeg een legende toe\n",
    "    plt.legend(loc='center left', bbox_to_anchor=(1, 0.5))\n",
    "    \n",
    "    # Toon de plot\n",
    "    plt.title(f'Kinematica van de puntmassa op tijdstip t = {t:.2f} s')\n",
    "    plt.grid(True)\n",
    "    ax.set_aspect('equal', 'box')\n",
    "    plt.show()\n",
    "\n",
    "# Specificeer een tijdstip t\n",
    "t = 1.6  # Bijvoorbeeld: t = pi/4\n",
    "plot_vectors(t)\n"
   ]
  },
  {
   "cell_type": "markdown",
   "id": "c697e34b-5c86-43a7-b9c0-070415fd7018",
   "metadata": {},
   "source": [
    "**EXTRA**\n",
    "\n",
    "Hieronder vind je voorbeeldcode om een vector in een assenstelsel te plaatsen. Je mag code uit dit voorbeeld vrij kopiëren, maar vergeet natuurlijk niet om de nodige elementen aan te passen."
   ]
  },
  {
   "cell_type": "code",
   "execution_count": 10,
   "id": "05032f00-14c4-4a91-a635-9309f3ccfcbb",
   "metadata": {},
   "outputs": [
    {
     "data": {
      "image/png": "[encoded data removed]",
      "text/plain": [
       "<Figure size 500x500 with 1 Axes>"
      ]
     },
     "metadata": {},
     "output_type": "display_data"
    }
   ],
   "source": [
    "import matplotlib.pyplot as plt\n",
    "\n",
    "# Staart coordinaten\n",
    "xS = 1\n",
    "yS = 2\n",
    "\n",
    "# Vector coordinaten\n",
    "xv = 3\n",
    "yv = 2\n",
    "\n",
    "\n",
    "#==============#\n",
    "#=== FIGUUR ===#\n",
    "#==============#\n",
    "\n",
    "fig = plt.figure(figsize=(5,5))\n",
    "ax = plt.gca()\n",
    "\n",
    "# Specifiëer afmetingen van de grafiek\n",
    "ax.set_xlim(0,5)\n",
    "ax.set_ylim(0,5)\n",
    "\n",
    "# Zet x en y as labels\n",
    "ax.set_xlabel('x')\n",
    "ax.set_ylabel('y')\n",
    "\n",
    "# Teken de staart als een zwarte bol\n",
    "ax.plot(xS,yS, 'ko', markersize=10, label='staart')\n",
    "\n",
    "# Voeg vector \\vec{a} toe\n",
    "ax.quiver(xS,yS,xv,yv, angles='xy', scale_units='xy', scale=1, color='blue', label='$\\\\vec{a}$')\n",
    "\n",
    "# Voeg een legende toe rechts van de figuur die alle labels oplijst\n",
    "plt.legend(loc='center left', bbox_to_anchor=(1, 0.5))\n",
    "\n",
    "# Voeg grijze hokjes toe op de grafiek\n",
    "ax.grid(True)\n",
    "\n",
    "# Toon de grafiek\n",
    "plt.show()"
   ]
  }
 ],
 "metadata": {
  "kernelspec": {
   "display_name": "Python 3 (ipykernel)",
   "language": "python",
   "name": "python3"
  },
  "language_info": {
   "codemirror_mode": {
    "name": "ipython",
    "version": 3
   },
   "file_extension": ".py",
   "mimetype": "text/x-python",
   "name": "python",
   "nbconvert_exporter": "python",
   "pygments_lexer": "ipython3",
   "version": "3.12.7"
  }
 },
 "nbformat": 4,
 "nbformat_minor": 5
}
